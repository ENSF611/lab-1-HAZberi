{
 "cells": [
  {
   "cell_type": "code",
   "execution_count": 1,
   "id": "513a6bb1",
   "metadata": {},
   "outputs": [
    {
     "name": "stdout",
     "output_type": "stream",
     "text": [
      "Python version: 3.9.13 (main, Aug 25 2022, 18:29:29) \n",
      "[Clang 12.0.0 ]\n",
      "pandas version: 1.5.0\n",
      "matplotlib version: 3.5.2\n",
      "NumPy version: 1.21.5\n",
      "SciPy version: 1.7.3\n",
      "IPython version: 8.5.0\n",
      "scikit-learn version: 1.1.1\n",
      "yellowbrick version: 1.5\n"
     ]
    }
   ],
   "source": [
    "import sys\n",
    "\n",
    "print(\"Python version:\", sys.version)\n",
    "\n",
    " \n",
    "\n",
    "import pandas as pd\n",
    "\n",
    "print(\"pandas version:\", pd.__version__)\n",
    "\n",
    " \n",
    "\n",
    "import matplotlib\n",
    "\n",
    "print(\"matplotlib version:\", matplotlib.__version__)\n",
    "\n",
    " \n",
    "\n",
    "import numpy as np\n",
    "\n",
    "print(\"NumPy version:\", np.__version__)\n",
    "\n",
    " \n",
    "\n",
    "import scipy as sp\n",
    "\n",
    "print(\"SciPy version:\", sp.__version__)\n",
    "\n",
    " \n",
    "\n",
    "import IPython\n",
    "\n",
    "print(\"IPython version:\", IPython.__version__)\n",
    "\n",
    " \n",
    "\n",
    "import sklearn\n",
    "\n",
    "print(\"scikit-learn version:\", sklearn.__version__)\n",
    "\n",
    " \n",
    "\n",
    "import yellowbrick\n",
    "\n",
    "print(\"yellowbrick version:\", yellowbrick.__version__)"
   ]
  },
  {
   "cell_type": "code",
   "execution_count": 3,
   "id": "d96f9939",
   "metadata": {},
   "outputs": [
    {
     "name": "stdout",
     "output_type": "stream",
     "text": [
      "# conda environments:\n",
      "#\n",
      "base                     /opt/anaconda3\n",
      "ensf-ml               *  /opt/anaconda3/envs/ensf-ml\n",
      "ensf592                  /opt/anaconda3/envs/ensf592\n",
      "\n",
      "\n",
      "Note: you may need to restart the kernel to use updated packages.\n"
     ]
    }
   ],
   "source": [
    "conda env list"
   ]
  }
 ],
 "metadata": {
  "authors": [
   {
    "name": "Hassaan Ahmed Zuberi"
   }
  ],
  "kernelspec": {
   "display_name": "Python 3 (ipykernel)",
   "language": "python",
   "name": "python3"
  },
  "language_info": {
   "codemirror_mode": {
    "name": "ipython",
    "version": 3
   },
   "file_extension": ".py",
   "mimetype": "text/x-python",
   "name": "python",
   "nbconvert_exporter": "python",
   "pygments_lexer": "ipython3",
   "version": "3.9.13"
  },
  "title": "Lab-1"
 },
 "nbformat": 4,
 "nbformat_minor": 5
}
